{
 "cells": [
  {
   "cell_type": "code",
   "execution_count": 1,
   "id": "a88ee37f",
   "metadata": {},
   "outputs": [],
   "source": [
    "import pandas as pd"
   ]
  },
  {
   "cell_type": "code",
   "execution_count": 5,
   "id": "06aef54b",
   "metadata": {},
   "outputs": [
    {
     "name": "stdout",
     "output_type": "stream",
     "text": [
      "     연도       동해       남해       서해       전체\n",
      "0  1996  17.4629  17.2288  14.4360  15.9067\n",
      "1  1997  17.4116  17.4092  14.8248  16.1526\n",
      "2  1998  17.5944  18.0110  15.2512  16.6044\n",
      "3  1999  18.1495  18.3175  14.8979  16.6284\n",
      "4  2000  17.9288  18.1766  15.0504  16.6178\n"
     ]
    }
   ],
   "source": [
    "df = pd.read_csv('data/sea_rain1.csv')\n",
    "print(df)"
   ]
  },
  {
   "cell_type": "code",
   "execution_count": null,
   "id": "c8f86596",
   "metadata": {},
   "outputs": [],
   "source": [
    "df2 = pd.read"
   ]
  }
 ],
 "metadata": {
  "kernelspec": {
   "display_name": "Python 3",
   "language": "python",
   "name": "python3"
  },
  "language_info": {
   "codemirror_mode": {
    "name": "ipython",
    "version": 3
   },
   "file_extension": ".py",
   "mimetype": "text/x-python",
   "name": "python",
   "nbconvert_exporter": "python",
   "pygments_lexer": "ipython3",
   "version": "3.8.8"
  }
 },
 "nbformat": 4,
 "nbformat_minor": 5
}
