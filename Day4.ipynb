{
 "cells": [
  {
   "cell_type": "code",
   "execution_count": 3,
   "id": "1ac4be10",
   "metadata": {},
   "outputs": [],
   "source": [
    "import time"
   ]
  },
  {
   "cell_type": "code",
   "execution_count": 4,
   "id": "ffc8439c",
   "metadata": {},
   "outputs": [],
   "source": [
    "def log_formatter(msg):\n",
    "    def log_message():\n",
    "        time_str = time.strftime('%C', time.localtime(time.time()))\n",
    "        print(time_str, end='')\n",
    "        print('--->', end='')\n",
    "        print(msg)\n",
    "    \n",
    "    return log_message"
   ]
  },
  {
   "cell_type": "code",
   "execution_count": 5,
   "id": "158d0cc7",
   "metadata": {},
   "outputs": [],
   "source": [
    "test_log_msg = log_formatter('test log')\n",
    "runtime_log_msg = log_formatter('runtime log')"
   ]
  },
  {
   "cell_type": "code",
   "execution_count": 6,
   "id": "772d7684",
   "metadata": {},
   "outputs": [
    {
     "name": "stdout",
     "output_type": "stream",
     "text": [
      "20--->test log\n",
      "20--->runtime log\n"
     ]
    }
   ],
   "source": [
    "test_log_msg()\n",
    "runtime_log_msg()"
   ]
  },
  {
   "cell_type": "code",
   "execution_count": 7,
   "id": "6239a40b",
   "metadata": {},
   "outputs": [],
   "source": [
    "def log_decorator(param_func):\n",
    "    def log_message():\n",
    "        time_str = time.strftime('%C', time.localtime(time.time()))\n",
    "        print(time_str, end='')\n",
    "        print('--->', end='')\n",
    "        return param_func()\n",
    "    \n",
    "    return log_message"
   ]
  },
  {
   "cell_type": "code",
   "execution_count": 8,
   "id": "023c8165",
   "metadata": {},
   "outputs": [],
   "source": [
    "def test_log_msg():\n",
    "    print('This is test log message')"
   ]
  },
  {
   "cell_type": "code",
   "execution_count": 9,
   "id": "f500a547",
   "metadata": {},
   "outputs": [],
   "source": [
    "def runtime_log_msg():\n",
    "    print('This is runntime log message')"
   ]
  },
  {
   "cell_type": "code",
   "execution_count": 10,
   "id": "f8257613",
   "metadata": {},
   "outputs": [],
   "source": [
    "test_log = log_decorator(test_log_msg)\n",
    "runtime_log = log_decorator(runtime_log_msg)"
   ]
  },
  {
   "cell_type": "code",
   "execution_count": 11,
   "id": "920b70a5",
   "metadata": {},
   "outputs": [
    {
     "name": "stdout",
     "output_type": "stream",
     "text": [
      "20--->This is test log message\n"
     ]
    }
   ],
   "source": [
    "test_log()"
   ]
  },
  {
   "cell_type": "code",
   "execution_count": 12,
   "id": "f3324726",
   "metadata": {},
   "outputs": [
    {
     "name": "stdout",
     "output_type": "stream",
     "text": [
      "20--->This is runntime log message\n"
     ]
    }
   ],
   "source": [
    "runtime_log()"
   ]
  },
  {
   "cell_type": "code",
   "execution_count": 13,
   "id": "65f75aee",
   "metadata": {},
   "outputs": [],
   "source": [
    "def get_double(a):\n",
    "    return a *2"
   ]
  },
  {
   "cell_type": "code",
   "execution_count": 14,
   "id": "a82621f0",
   "metadata": {},
   "outputs": [],
   "source": [
    "def print_line():\n",
    "    return \n",
    "    print('=' * 30)"
   ]
  },
  {
   "cell_type": "code",
   "execution_count": 15,
   "id": "235c0aed",
   "metadata": {},
   "outputs": [],
   "source": [
    "print_line()"
   ]
  },
  {
   "cell_type": "code",
   "execution_count": 18,
   "id": "6a92b7a0",
   "metadata": {},
   "outputs": [],
   "source": [
    "@log_decorator\n",
    "def test_log_msg():\n",
    "    print('this is test log message')\n",
    "\n",
    "@log_decorator\n",
    "def funtime_mo():\n",
    "    print('This is runtime log')"
   ]
  },
  {
   "cell_type": "code",
   "execution_count": 19,
   "id": "7eba57f3",
   "metadata": {},
   "outputs": [],
   "source": [
    "import numpy as np"
   ]
  },
  {
   "cell_type": "code",
   "execution_count": 20,
   "id": "4fb886da",
   "metadata": {},
   "outputs": [
    {
     "name": "stdout",
     "output_type": "stream",
     "text": [
      "[[1 2 3]\n",
      " [4 5 6]]\n"
     ]
    }
   ],
   "source": [
    "n = np.arange(1,7).reshape(2,3)\n",
    "print(n)"
   ]
  },
  {
   "cell_type": "code",
   "execution_count": 22,
   "id": "9a2934b6",
   "metadata": {},
   "outputs": [
    {
     "name": "stdout",
     "output_type": "stream",
     "text": [
      "[ 0 10 20 30 40 50]\n"
     ]
    }
   ],
   "source": [
    "a = np.array([0,10,20,30,40,50])\n",
    "print(a)"
   ]
  },
  {
   "cell_type": "code",
   "execution_count": 24,
   "id": "9eeba582",
   "metadata": {},
   "outputs": [
    {
     "name": "stdout",
     "output_type": "stream",
     "text": [
      "[10 30 40]\n"
     ]
    }
   ],
   "source": [
    "print(a[[1,3,4]])"
   ]
  },
  {
   "cell_type": "code",
   "execution_count": 25,
   "id": "26a2eee7",
   "metadata": {},
   "outputs": [
    {
     "name": "stdout",
     "output_type": "stream",
     "text": [
      "[[10 20 30]\n",
      " [40 50 60]\n",
      " [70 80 90]]\n"
     ]
    }
   ],
   "source": [
    "b = np.arange(10,100,10).reshape(3,3)\n",
    "print(b)"
   ]
  },
  {
   "cell_type": "code",
   "execution_count": 26,
   "id": "3c55caf9",
   "metadata": {},
   "outputs": [
    {
     "name": "stdout",
     "output_type": "stream",
     "text": [
      "30\n"
     ]
    }
   ],
   "source": [
    "print(b[0,2])"
   ]
  },
  {
   "cell_type": "code",
   "execution_count": 27,
   "id": "9d2aec1e",
   "metadata": {},
   "outputs": [
    {
     "name": "stdout",
     "output_type": "stream",
     "text": [
      "30 [0, 1]\n"
     ]
    }
   ],
   "source": [
    "print(b[0,2],[0,1])"
   ]
  },
  {
   "cell_type": "code",
   "execution_count": 29,
   "id": "672d6817",
   "metadata": {},
   "outputs": [
    {
     "name": "stdout",
     "output_type": "stream",
     "text": [
      "[1 2 3 4 5 6]\n"
     ]
    }
   ],
   "source": [
    "a = np.array([1,2,3,4,5,6])\n",
    "print(a)"
   ]
  },
  {
   "cell_type": "code",
   "execution_count": 30,
   "id": "df948109",
   "metadata": {},
   "outputs": [
    {
     "name": "stdout",
     "output_type": "stream",
     "text": [
      "[4 5 6]\n"
     ]
    }
   ],
   "source": [
    "print(a[a>3])"
   ]
  },
  {
   "cell_type": "code",
   "execution_count": 31,
   "id": "39a99f37",
   "metadata": {},
   "outputs": [
    {
     "name": "stdout",
     "output_type": "stream",
     "text": [
      "[2 4 6]\n"
     ]
    }
   ],
   "source": [
    "print(a[a%2 == 0])"
   ]
  },
  {
   "cell_type": "code",
   "execution_count": 33,
   "id": "02fd1405",
   "metadata": {},
   "outputs": [
    {
     "name": "stdout",
     "output_type": "stream",
     "text": [
      "[ 0 10 20 30 40 50]\n"
     ]
    }
   ],
   "source": [
    "a = np.array([0,10,20,30,40,50])\n",
    "print(a)"
   ]
  },
  {
   "cell_type": "code",
   "execution_count": 34,
   "id": "edc076fb",
   "metadata": {},
   "outputs": [
    {
     "name": "stdout",
     "output_type": "stream",
     "text": [
      "[10 20 30]\n"
     ]
    }
   ],
   "source": [
    "print(a[1:4])"
   ]
  },
  {
   "cell_type": "code",
   "execution_count": 35,
   "id": "c6d03c51",
   "metadata": {},
   "outputs": [
    {
     "name": "stdout",
     "output_type": "stream",
     "text": [
      "[ 0 10 20]\n"
     ]
    }
   ],
   "source": [
    "print(a[:3])"
   ]
  },
  {
   "cell_type": "code",
   "execution_count": 36,
   "id": "b076da30",
   "metadata": {},
   "outputs": [
    {
     "name": "stdout",
     "output_type": "stream",
     "text": [
      "[20 30 40 50]\n"
     ]
    }
   ],
   "source": [
    "print(a[2:])"
   ]
  },
  {
   "cell_type": "code",
   "execution_count": 38,
   "id": "dfedb2a7",
   "metadata": {},
   "outputs": [
    {
     "name": "stdout",
     "output_type": "stream",
     "text": [
      "[[10 20 30]\n",
      " [40 50 60]\n",
      " [70 80 90]]\n"
     ]
    }
   ],
   "source": [
    "a = np.arange(10,100,10).reshape(3,3)\n",
    "print(a)"
   ]
  },
  {
   "cell_type": "code",
   "execution_count": 39,
   "id": "50881209",
   "metadata": {},
   "outputs": [
    {
     "name": "stdout",
     "output_type": "stream",
     "text": [
      "[[50 60]\n",
      " [80 90]]\n"
     ]
    }
   ],
   "source": [
    "print(a[1:3,1:3])"
   ]
  },
  {
   "cell_type": "code",
   "execution_count": 41,
   "id": "0738a25c",
   "metadata": {},
   "outputs": [
    {
     "name": "stdout",
     "output_type": "stream",
     "text": [
      "[[20 30]\n",
      " [50 60]\n",
      " [80 90]]\n"
     ]
    }
   ],
   "source": [
    "print(a[:3,1:])"
   ]
  },
  {
   "cell_type": "code",
   "execution_count": 42,
   "id": "600acc38",
   "metadata": {},
   "outputs": [
    {
     "name": "stdout",
     "output_type": "stream",
     "text": [
      "[40 50]\n"
     ]
    }
   ],
   "source": [
    "print(a[1][0:2])"
   ]
  },
  {
   "cell_type": "code",
   "execution_count": 45,
   "id": "0a01c20b",
   "metadata": {},
   "outputs": [
    {
     "name": "stdout",
     "output_type": "stream",
     "text": [
      "[[40 50 60]] [0, 2]\n"
     ]
    }
   ],
   "source": [
    "print(a[1:2],[0,2])"
   ]
  },
  {
   "cell_type": "code",
   "execution_count": 46,
   "id": "c4e0163f",
   "metadata": {},
   "outputs": [],
   "source": [
    "import pandas as pd"
   ]
  },
  {
   "cell_type": "code",
   "execution_count": 47,
   "id": "079165dc",
   "metadata": {},
   "outputs": [
    {
     "name": "stdout",
     "output_type": "stream",
     "text": [
      "0    10\n",
      "1    20\n",
      "2    30\n",
      "3    40\n",
      "4    50\n",
      "dtype: int64\n"
     ]
    }
   ],
   "source": [
    "sl = pd.Series([10,20,30,40,50])\n",
    "print(sl)"
   ]
  },
  {
   "cell_type": "code",
   "execution_count": 48,
   "id": "8c5c928e",
   "metadata": {},
   "outputs": [
    {
     "name": "stdout",
     "output_type": "stream",
     "text": [
      "RangeIndex(start=0, stop=5, step=1)\n"
     ]
    }
   ],
   "source": [
    "print(sl.index)"
   ]
  },
  {
   "cell_type": "code",
   "execution_count": 49,
   "id": "5053b8f1",
   "metadata": {},
   "outputs": [
    {
     "name": "stdout",
     "output_type": "stream",
     "text": [
      "[10 20 30 40 50]\n"
     ]
    }
   ],
   "source": [
    "print(sl.values)"
   ]
  },
  {
   "cell_type": "code",
   "execution_count": 50,
   "id": "95e71e08",
   "metadata": {},
   "outputs": [
    {
     "name": "stdout",
     "output_type": "stream",
     "text": [
      "<class 'numpy.ndarray'>\n"
     ]
    }
   ],
   "source": [
    "print(type(sl.values))"
   ]
  },
  {
   "cell_type": "code",
   "execution_count": 51,
   "id": "b7cc0fa2",
   "metadata": {},
   "outputs": [
    {
     "name": "stdout",
     "output_type": "stream",
     "text": [
      "0    a\n",
      "1    b\n",
      "2    c\n",
      "3    1\n",
      "4    2\n",
      "5    3\n",
      "dtype: object\n"
     ]
    }
   ],
   "source": [
    "s2 = pd.Series(['a','b','c',1,2,3])\n",
    "print(s2)"
   ]
  },
  {
   "cell_type": "code",
   "execution_count": 53,
   "id": "bea575b8",
   "metadata": {},
   "outputs": [
    {
     "name": "stdout",
     "output_type": "stream",
     "text": [
      "0    NaN\n",
      "1    1.0\n",
      "2    2.0\n",
      "dtype: float64\n"
     ]
    }
   ],
   "source": [
    "s3 = pd.Series([np.nan, 1,2])#nan(Not A Number)\n",
    "print(s3)"
   ]
  },
  {
   "cell_type": "code",
   "execution_count": 56,
   "id": "255739d3",
   "metadata": {},
   "outputs": [
    {
     "name": "stdout",
     "output_type": "stream",
     "text": [
      "2021-03-20    200.0\n",
      "2021-03-21    187.0\n",
      "2021-03-22      NaN\n",
      "2021-03-23    210.0\n",
      "dtype: float64\n"
     ]
    }
   ],
   "source": [
    "index_data = ['2021-03-20','2021-03-21','2021-03-22','2021-03-23']\n",
    "s4 = pd.Series([200,187,np.nan,210], index=index_data)\n",
    "print(s4)"
   ]
  },
  {
   "cell_type": "code",
   "execution_count": 58,
   "id": "82bd7de2",
   "metadata": {},
   "outputs": [
    {
     "name": "stdout",
     "output_type": "stream",
     "text": [
      "국어    100\n",
      "영어     95\n",
      "수학    100\n",
      "dtype: int64\n"
     ]
    }
   ],
   "source": [
    "s5 = pd.Series({'국어':100, '영어':95, '수학':100})\n",
    "print(s5)"
   ]
  },
  {
   "cell_type": "code",
   "execution_count": 60,
   "id": "b9270c2e",
   "metadata": {},
   "outputs": [
    {
     "name": "stdout",
     "output_type": "stream",
     "text": [
      "DatetimeIndex(['2021-08-01', '2021-08-02', '2021-08-03', '2021-08-04',\n",
      "               '2021-08-05', '2021-08-06', '2021-08-07', '2021-08-08',\n",
      "               '2021-08-09', '2021-08-10', '2021-08-11', '2021-08-12',\n",
      "               '2021-08-13', '2021-08-14', '2021-08-15', '2021-08-16',\n",
      "               '2021-08-17', '2021-08-18', '2021-08-19', '2021-08-20',\n",
      "               '2021-08-21', '2021-08-22', '2021-08-23', '2021-08-24',\n",
      "               '2021-08-25', '2021-08-26', '2021-08-27', '2021-08-28',\n",
      "               '2021-08-29', '2021-08-30', '2021-08-31'],\n",
      "              dtype='datetime64[ns]', freq='D')\n"
     ]
    }
   ],
   "source": [
    "p = pd.date_range(start='2021-08-01',end='2021-08-31')\n",
    "print(p)"
   ]
  },
  {
   "cell_type": "code",
   "execution_count": 63,
   "id": "2a412225",
   "metadata": {},
   "outputs": [
    {
     "name": "stdout",
     "output_type": "stream",
     "text": [
      "DatetimeIndex(['2021-08-01', '2021-08-02', '2021-08-03', '2021-08-04',\n",
      "               '2021-08-05', '2021-08-06', '2021-08-07', '2021-08-08',\n",
      "               '2021-08-09', '2021-08-10', '2021-08-11', '2021-08-12',\n",
      "               '2021-08-13', '2021-08-14', '2021-08-15', '2021-08-16',\n",
      "               '2021-08-17', '2021-08-18', '2021-08-19', '2021-08-20',\n",
      "               '2021-08-21', '2021-08-22', '2021-08-23', '2021-08-24',\n",
      "               '2021-08-25', '2021-08-26', '2021-08-27', '2021-08-28',\n",
      "               '2021-08-29', '2021-08-30', '2021-08-31'],\n",
      "              dtype='datetime64[ns]', freq='D')\n"
     ]
    }
   ],
   "source": [
    "p = pd.date_range(start='2021/08/01',end='2021.08.31')\n",
    "print(p)"
   ]
  },
  {
   "cell_type": "code",
   "execution_count": 64,
   "id": "149479f4",
   "metadata": {},
   "outputs": [
    {
     "name": "stdout",
     "output_type": "stream",
     "text": [
      "DatetimeIndex(['2021-08-10', '2021-08-11', '2021-08-12', '2021-08-13',\n",
      "               '2021-08-14', '2021-08-15', '2021-08-16'],\n",
      "              dtype='datetime64[ns]', freq='D')\n"
     ]
    }
   ],
   "source": [
    "p = pd.date_range(start='2021-08-10',periods=7)\n",
    "print(p)"
   ]
  },
  {
   "cell_type": "code",
   "execution_count": 66,
   "id": "d68bd3af",
   "metadata": {},
   "outputs": [
    {
     "name": "stdout",
     "output_type": "stream",
     "text": [
      "DatetimeIndex(['2021-08-01', '2021-08-03', '2021-08-05', '2021-08-07'], dtype='datetime64[ns]', freq='2D')\n"
     ]
    }
   ],
   "source": [
    "p = pd.date_range(start='2021-08-01',periods=4, freq='2D')\n",
    "print(p)"
   ]
  },
  {
   "cell_type": "code",
   "execution_count": 68,
   "id": "4021238f",
   "metadata": {},
   "outputs": [
    {
     "name": "stdout",
     "output_type": "stream",
     "text": [
      "DatetimeIndex(['2021-08-22', '2021-08-29', '2021-09-05', '2021-09-12',\n",
      "               '2021-09-19'],\n",
      "              dtype='datetime64[ns]', freq='W-SUN')\n"
     ]
    }
   ],
   "source": [
    "p =pd.date_range(start='2021-08-18',periods = 5, freq = 'w')\n",
    "print(p)"
   ]
  },
  {
   "cell_type": "code",
   "execution_count": 69,
   "id": "ec3f8109",
   "metadata": {},
   "outputs": [
    {
     "name": "stdout",
     "output_type": "stream",
     "text": [
      "DatetimeIndex(['2021-07-30', '2021-09-30', '2021-11-30', '2022-01-31',\n",
      "               '2022-03-31', '2022-05-31', '2022-07-29', '2022-09-30',\n",
      "               '2022-11-30', '2023-01-31', '2023-03-31', '2023-05-31'],\n",
      "              dtype='datetime64[ns]', freq='2BM')\n"
     ]
    }
   ],
   "source": [
    "p = pd.date_range(start='2021-07-23',periods=12, freq='2BM')\n",
    "print(p)"
   ]
  },
  {
   "cell_type": "code",
   "execution_count": 71,
   "id": "1c8e1636",
   "metadata": {},
   "outputs": [
    {
     "name": "stdout",
     "output_type": "stream",
     "text": [
      "DatetimeIndex(['2021-04-01', '2021-07-01', '2021-10-01', '2022-01-01'], dtype='datetime64[ns]', freq='QS-JAN')\n"
     ]
    }
   ],
   "source": [
    "p = pd.date_range(start='2021-01-04', periods=4, freq='QS')\n",
    "print(p)"
   ]
  },
  {
   "cell_type": "code",
   "execution_count": 72,
   "id": "3401747d",
   "metadata": {},
   "outputs": [
    {
     "name": "stdout",
     "output_type": "stream",
     "text": [
      "DatetimeIndex(['2022-01-01', '2023-01-01', '2024-01-01'], dtype='datetime64[ns]', freq='AS-JAN')\n"
     ]
    }
   ],
   "source": [
    "p =pd.date_range(start='2021-02-01', periods=3, freq='AS')\n",
    "print(p)"
   ]
  },
  {
   "cell_type": "code",
   "execution_count": 74,
   "id": "42514af9",
   "metadata": {},
   "outputs": [
    {
     "name": "stdout",
     "output_type": "stream",
     "text": [
      "DatetimeIndex(['2021-01-01 08:00:00', '2021-01-01 09:00:00',\n",
      "               '2021-01-01 10:00:00', '2021-01-01 11:00:00',\n",
      "               '2021-01-01 12:00:00', '2021-01-01 13:00:00',\n",
      "               '2021-01-01 14:00:00', '2021-01-01 15:00:00',\n",
      "               '2021-01-01 16:00:00', '2021-01-01 17:00:00'],\n",
      "              dtype='datetime64[ns]', freq='H')\n"
     ]
    }
   ],
   "source": [
    "p = pd.date_range(start='2021-01-01 08:00', periods=10, freq='H')\n",
    "print(p)"
   ]
  },
  {
   "cell_type": "code",
   "execution_count": 75,
   "id": "0b1251d5",
   "metadata": {},
   "outputs": [
    {
     "name": "stdout",
     "output_type": "stream",
     "text": [
      "<CustomBusinessHour: CBH=09:00-18:00>\n"
     ]
    }
   ],
   "source": [
    "cbh = pd.offsets.CustomBusinessHour(start='09:00',end = '18:00',weekmask = 'Mon Tue Wed Thu Fri')\n",
    "print(cbh)"
   ]
  },
  {
   "cell_type": "code",
   "execution_count": 76,
   "id": "eaf7ddcc",
   "metadata": {},
   "outputs": [
    {
     "name": "stdout",
     "output_type": "stream",
     "text": [
      "DatetimeIndex(['2021-01-01 09:00:00', '2021-01-01 10:00:00',\n",
      "               '2021-01-01 11:00:00', '2021-01-01 12:00:00',\n",
      "               '2021-01-01 13:00:00', '2021-01-01 14:00:00',\n",
      "               '2021-01-01 15:00:00', '2021-01-01 16:00:00',\n",
      "               '2021-01-01 17:00:00', '2021-01-04 09:00:00'],\n",
      "              dtype='datetime64[ns]', freq='CBH')\n"
     ]
    }
   ],
   "source": [
    "p2 = pd.date_range(start='2021-01-01 08:00', periods=10, freq=cbh)\n",
    "print(p2)"
   ]
  },
  {
   "cell_type": "code",
   "execution_count": 79,
   "id": "a8a255fc",
   "metadata": {},
   "outputs": [
    {
     "name": "stdout",
     "output_type": "stream",
     "text": [
      "DatetimeIndex(['2021-01-01 00:00:00', '2021-01-01 00:00:10',\n",
      "               '2021-01-01 00:00:20', '2021-01-01 00:00:30'],\n",
      "              dtype='datetime64[ns]', freq='10S')\n"
     ]
    }
   ],
   "source": [
    "p = pd.date_range(start='2021-01-01',periods=4, freq='10S')\n",
    "print(p)"
   ]
  },
  {
   "cell_type": "code",
   "execution_count": 88,
   "id": "10e279a6",
   "metadata": {},
   "outputs": [
    {
     "name": "stdout",
     "output_type": "stream",
     "text": [
      "2021-08-01    51\n",
      "2021-08-02    63\n",
      "2021-08-03    59\n",
      "2021-08-04    48\n",
      "2021-08-05    60\n",
      "Freq: D, dtype: int64\n"
     ]
    }
   ],
   "source": [
    "index_date = pd.date_range(start='2021-08-01', periods=5, freq='D')\n",
    "p = pd.Series([51,63,59,48,60],index= index_date)\n",
    "print(p)"
   ]
  },
  {
   "cell_type": "code",
   "execution_count": 89,
   "id": "14de5816",
   "metadata": {},
   "outputs": [
    {
     "name": "stdout",
     "output_type": "stream",
     "text": [
      "   0  1  2\n",
      "0  1  2  3\n",
      "1  4  5  6\n",
      "2  7  8  9\n"
     ]
    }
   ],
   "source": [
    "df = pd.DataFrame([[1,2,3,],[4,5,6],[7,8,9]])\n",
    "print(df)"
   ]
  },
  {
   "cell_type": "code",
   "execution_count": 90,
   "id": "52d8668d",
   "metadata": {},
   "outputs": [
    {
     "name": "stdout",
     "output_type": "stream",
     "text": [
      "   0  1  2\n",
      "0  1  2  3\n",
      "1  4  5  6\n",
      "2  7  8  9\n"
     ]
    }
   ],
   "source": [
    "data_list = np.array([[1,2,3],[4,5,6],[7,8,9]])\n",
    "df = pd.DataFrame(data_list)\n",
    "print(df)"
   ]
  },
  {
   "cell_type": "code",
   "execution_count": 104,
   "id": "fdf66b3a",
   "metadata": {},
   "outputs": [
    {
     "ename": "ValueError",
     "evalue": "Shape of passed values is (4, 3), indices imply (4, 2)",
     "output_type": "error",
     "traceback": [
      "\u001b[1;31m---------------------------------------------------------------------------\u001b[0m",
      "\u001b[1;31mValueError\u001b[0m                                Traceback (most recent call last)",
      "\u001b[1;32mC:\\Users\\Public\\Documents\\ESTsoft\\CreatorTemp/ipykernel_22152/3048368434.py\u001b[0m in \u001b[0;36m<module>\u001b[1;34m\u001b[0m\n\u001b[0;32m      2\u001b[0m \u001b[0mindex_date\u001b[0m \u001b[1;33m=\u001b[0m \u001b[0mpd\u001b[0m\u001b[1;33m.\u001b[0m\u001b[0mdate_range\u001b[0m\u001b[1;33m(\u001b[0m\u001b[1;34m'2021-08-01'\u001b[0m\u001b[1;33m,\u001b[0m\u001b[0mperiods\u001b[0m\u001b[1;33m=\u001b[0m\u001b[1;36m4\u001b[0m\u001b[1;33m)\u001b[0m\u001b[1;33m\u001b[0m\u001b[1;33m\u001b[0m\u001b[0m\n\u001b[0;32m      3\u001b[0m \u001b[0mcolumns_list\u001b[0m \u001b[1;33m=\u001b[0m \u001b[1;33m[\u001b[0m\u001b[1;34m'A'\u001b[0m\u001b[1;33m,\u001b[0m\u001b[1;34m'B'\u001b[0m\u001b[1;33m]\u001b[0m\u001b[1;33m\u001b[0m\u001b[1;33m\u001b[0m\u001b[0m\n\u001b[1;32m----> 4\u001b[1;33m \u001b[0mdf\u001b[0m \u001b[1;33m=\u001b[0m \u001b[0mpd\u001b[0m\u001b[1;33m.\u001b[0m\u001b[0mDataFrame\u001b[0m\u001b[1;33m(\u001b[0m\u001b[0mdata\u001b[0m\u001b[1;33m,\u001b[0m \u001b[0mindex_date\u001b[0m\u001b[1;33m,\u001b[0m \u001b[0mcolumns\u001b[0m\u001b[1;33m=\u001b[0m\u001b[0mcolumns_list\u001b[0m\u001b[1;33m)\u001b[0m\u001b[1;33m\u001b[0m\u001b[1;33m\u001b[0m\u001b[0m\n\u001b[0m\u001b[0;32m      5\u001b[0m \u001b[0mprint\u001b[0m\u001b[1;33m(\u001b[0m\u001b[0mdf\u001b[0m\u001b[1;33m)\u001b[0m\u001b[1;33m\u001b[0m\u001b[1;33m\u001b[0m\u001b[0m\n",
      "\u001b[1;32m~\\Python_basic\\jupyter\\jupyter\\Lib\\site-packages\\pandas\\core\\frame.py\u001b[0m in \u001b[0;36m__init__\u001b[1;34m(self, data, index, columns, dtype, copy)\u001b[0m\n\u001b[0;32m    670\u001b[0m                 )\n\u001b[0;32m    671\u001b[0m             \u001b[1;32melse\u001b[0m\u001b[1;33m:\u001b[0m\u001b[1;33m\u001b[0m\u001b[1;33m\u001b[0m\u001b[0m\n\u001b[1;32m--> 672\u001b[1;33m                 mgr = ndarray_to_mgr(\n\u001b[0m\u001b[0;32m    673\u001b[0m                     \u001b[0mdata\u001b[0m\u001b[1;33m,\u001b[0m\u001b[1;33m\u001b[0m\u001b[1;33m\u001b[0m\u001b[0m\n\u001b[0;32m    674\u001b[0m                     \u001b[0mindex\u001b[0m\u001b[1;33m,\u001b[0m\u001b[1;33m\u001b[0m\u001b[1;33m\u001b[0m\u001b[0m\n",
      "\u001b[1;32m~\\Python_basic\\jupyter\\jupyter\\Lib\\site-packages\\pandas\\core\\internals\\construction.py\u001b[0m in \u001b[0;36mndarray_to_mgr\u001b[1;34m(values, index, columns, dtype, copy, typ)\u001b[0m\n\u001b[0;32m    322\u001b[0m     )\n\u001b[0;32m    323\u001b[0m \u001b[1;33m\u001b[0m\u001b[0m\n\u001b[1;32m--> 324\u001b[1;33m     \u001b[0m_check_values_indices_shape_match\u001b[0m\u001b[1;33m(\u001b[0m\u001b[0mvalues\u001b[0m\u001b[1;33m,\u001b[0m \u001b[0mindex\u001b[0m\u001b[1;33m,\u001b[0m \u001b[0mcolumns\u001b[0m\u001b[1;33m)\u001b[0m\u001b[1;33m\u001b[0m\u001b[1;33m\u001b[0m\u001b[0m\n\u001b[0m\u001b[0;32m    325\u001b[0m \u001b[1;33m\u001b[0m\u001b[0m\n\u001b[0;32m    326\u001b[0m     \u001b[1;32mif\u001b[0m \u001b[0mtyp\u001b[0m \u001b[1;33m==\u001b[0m \u001b[1;34m\"array\"\u001b[0m\u001b[1;33m:\u001b[0m\u001b[1;33m\u001b[0m\u001b[1;33m\u001b[0m\u001b[0m\n",
      "\u001b[1;32m~\\Python_basic\\jupyter\\jupyter\\Lib\\site-packages\\pandas\\core\\internals\\construction.py\u001b[0m in \u001b[0;36m_check_values_indices_shape_match\u001b[1;34m(values, index, columns)\u001b[0m\n\u001b[0;32m    391\u001b[0m         \u001b[0mpassed\u001b[0m \u001b[1;33m=\u001b[0m \u001b[0mvalues\u001b[0m\u001b[1;33m.\u001b[0m\u001b[0mshape\u001b[0m\u001b[1;33m\u001b[0m\u001b[1;33m\u001b[0m\u001b[0m\n\u001b[0;32m    392\u001b[0m         \u001b[0mimplied\u001b[0m \u001b[1;33m=\u001b[0m \u001b[1;33m(\u001b[0m\u001b[0mlen\u001b[0m\u001b[1;33m(\u001b[0m\u001b[0mindex\u001b[0m\u001b[1;33m)\u001b[0m\u001b[1;33m,\u001b[0m \u001b[0mlen\u001b[0m\u001b[1;33m(\u001b[0m\u001b[0mcolumns\u001b[0m\u001b[1;33m)\u001b[0m\u001b[1;33m)\u001b[0m\u001b[1;33m\u001b[0m\u001b[1;33m\u001b[0m\u001b[0m\n\u001b[1;32m--> 393\u001b[1;33m         \u001b[1;32mraise\u001b[0m \u001b[0mValueError\u001b[0m\u001b[1;33m(\u001b[0m\u001b[1;34mf\"Shape of passed values is {passed}, indices imply {implied}\"\u001b[0m\u001b[1;33m)\u001b[0m\u001b[1;33m\u001b[0m\u001b[1;33m\u001b[0m\u001b[0m\n\u001b[0m\u001b[0;32m    394\u001b[0m \u001b[1;33m\u001b[0m\u001b[0m\n\u001b[0;32m    395\u001b[0m \u001b[1;33m\u001b[0m\u001b[0m\n",
      "\u001b[1;31mValueError\u001b[0m: Shape of passed values is (4, 3), indices imply (4, 2)"
     ]
    }
   ],
   "source": [
    "data = np.array([[1,2,3],[4,5,6],[7,8,9],[10,11,12]])\n",
    "index_date = pd.date_range('2021-08-01',periods=4)\n",
    "columns_list = ['A','B']\n",
    "df = pd.DataFrame(data, index_date, columns=columns_list)\n",
    "print(df)"
   ]
  },
  {
   "cell_type": "code",
   "execution_count": 103,
   "id": "186eb901",
   "metadata": {},
   "outputs": [
    {
     "name": "stdout",
     "output_type": "stream",
     "text": [
      "     연도  지사  고객 수\n",
      "0  2015  서울   200\n",
      "1  2016  서울   250\n",
      "2  2016  부산   150\n",
      "3  2017  서울   300\n",
      "4  2017  부산   200\n"
     ]
    }
   ],
   "source": [
    "data = {'연도':[2015,2016,2016,2017,2017], '지사':['서울','서울','부산','서울','부산'],'고객 수':[200,250,150,300,200]}\n",
    "df = pd.DataFrame(data)\n",
    "print(df)"
   ]
  },
  {
   "cell_type": "code",
   "execution_count": 106,
   "id": "a2513d52",
   "metadata": {},
   "outputs": [
    {
     "name": "stdout",
     "output_type": "stream",
     "text": [
      "   A   B    C\n",
      "0  1  10  100\n",
      "1  2  20  200\n",
      "2  3  30  300\n",
      "3  4  40  400\n",
      "4  5  50  500\n"
     ]
    }
   ],
   "source": [
    "data1 = {'A':[1,2,3,4,5],'B':[10,20,30,40,50],'C':[100,200,300,400,500]}\n",
    "df1 = pd.DataFrame(data1)\n",
    "print(df1)"
   ]
  },
  {
   "cell_type": "code",
   "execution_count": 107,
   "id": "d90dd3bd",
   "metadata": {},
   "outputs": [
    {
     "name": "stdout",
     "output_type": "stream",
     "text": [
      "   A   B    C\n",
      "0  6  60  600\n",
      "1  7  70  700\n",
      "2  8  80  800\n"
     ]
    }
   ],
   "source": [
    "data2 = {'A':[6,7,8],'B':[60,70,80],'C':[600,700,800]}\n",
    "df2 = pd.DataFrame(data2)\n",
    "print(df2)"
   ]
  },
  {
   "cell_type": "code",
   "execution_count": 108,
   "id": "e2be8f1f",
   "metadata": {},
   "outputs": [
    {
     "name": "stdout",
     "output_type": "stream",
     "text": [
      "      A      B       C\n",
      "0   7.0   70.0   700.0\n",
      "1   9.0   90.0   900.0\n",
      "2  11.0  110.0  1100.0\n",
      "3   NaN    NaN     NaN\n",
      "4   NaN    NaN     NaN\n"
     ]
    }
   ],
   "source": [
    "print(df1+df2)"
   ]
  },
  {
   "cell_type": "code",
   "execution_count": 124,
   "id": "43b6d0cb",
   "metadata": {},
   "outputs": [],
   "source": [
    "table_data3 = {'봄':[256.5,264.3,215.9,223.2,312.8],\n",
    "               '여름':[770.6,567.5,599.8,387.1,446.2],\n",
    "               '가을':[363.5,231.2,293.1,247.7,381.6],\n",
    "               '겨울':[139.3,59.9,76.9,109.1,108.1]}\n",
    "columns_list = ['봄','여름','가을','겨울']\n",
    "index_list = ['2012','2013','2014','2015','2016']"
   ]
  },
  {
   "cell_type": "code",
   "execution_count": 126,
   "id": "74fbedfd",
   "metadata": {},
   "outputs": [
    {
     "name": "stdout",
     "output_type": "stream",
     "text": [
      "          봄     여름     가을     겨울\n",
      "2012  256.5  770.6  363.5  139.3\n",
      "2013  264.3  567.5  231.2   59.9\n",
      "2014  215.9  599.8  293.1   76.9\n",
      "2015  223.2  387.1  247.7  109.1\n",
      "2016  312.8  446.2  381.6  108.1\n"
     ]
    }
   ],
   "source": [
    "df3 = pd.DataFrame(table_data3, columns=columns_list,index=index_list)\n",
    "print(df3)"
   ]
  },
  {
   "cell_type": "code",
   "execution_count": 127,
   "id": "aecbcd5b",
   "metadata": {},
   "outputs": [
    {
     "name": "stdout",
     "output_type": "stream",
     "text": [
      "봄     254.54\n",
      "여름    554.24\n",
      "가을    303.42\n",
      "겨울     98.66\n",
      "dtype: float64\n"
     ]
    }
   ],
   "source": [
    "print(df3.mean())"
   ]
  },
  {
   "cell_type": "code",
   "execution_count": 128,
   "id": "35dad784",
   "metadata": {},
   "outputs": [
    {
     "name": "stdout",
     "output_type": "stream",
     "text": [
      "2012    382.475\n",
      "2013    280.725\n",
      "2014    296.425\n",
      "2015    241.775\n",
      "2016    312.175\n",
      "dtype: float64\n"
     ]
    }
   ],
   "source": [
    "print(df3.mean(axis =1))"
   ]
  },
  {
   "cell_type": "code",
   "execution_count": 129,
   "id": "3b36b974",
   "metadata": {},
   "outputs": [
    {
     "name": "stdout",
     "output_type": "stream",
     "text": [
      "                봄          여름          가을          겨울\n",
      "count    5.000000    5.000000    5.000000    5.000000\n",
      "mean   254.540000  554.240000  303.420000   98.660000\n",
      "std     38.628267  148.888895   67.358496   30.925523\n",
      "min    215.900000  387.100000  231.200000   59.900000\n",
      "25%    223.200000  446.200000  247.700000   76.900000\n",
      "50%    256.500000  567.500000  293.100000  108.100000\n",
      "75%    264.300000  599.800000  363.500000  109.100000\n",
      "max    312.800000  770.600000  381.600000  139.300000\n"
     ]
    }
   ],
   "source": [
    "print(df3.describe())"
   ]
  },
  {
   "cell_type": "code",
   "execution_count": 133,
   "id": "eccd6461",
   "metadata": {},
   "outputs": [],
   "source": [
    "KTX_data = {'경부선 KTX': [39060, 39896, 42005, 43621, 41702, 41266, 32427],\n",
    "            '호남선 KTX': [7313, 6967, 6873, 6626, 8675, 10622, 9228],\n",
    "            '경전선 KTX': [3627, 4168, 4088, 4424, 4606, 4984, 5570],\n",
    "            '전라선 KTX': [309, 1771, 1954, 2244, 3146, 3945, 5766],\n",
    "            '동해선 KTX': [np.nan,np.nan, np.nan, np.nan, 2395, 3786, 6667]}\n",
    "col_list = ['경부선 KTX','호남선 KTX','경전선 KTX','전라선 KTX','동해선 KTX']\n",
    "index_list = ['2011', '2012', '2013', '2014', '2015', '2016', '2017']"
   ]
  },
  {
   "cell_type": "code",
   "execution_count": 135,
   "id": "bf87cb0b",
   "metadata": {},
   "outputs": [
    {
     "name": "stdout",
     "output_type": "stream",
     "text": [
      "      경부선 KTX  호남선 KTX  경전선 KTX  전라선 KTX  동해선 KTX\n",
      "2011    39060     7313     3627      309      NaN\n",
      "2012    39896     6967     4168     1771      NaN\n",
      "2013    42005     6873     4088     1954      NaN\n",
      "2014    43621     6626     4424     2244      NaN\n",
      "2015    41702     8675     4606     3146   2395.0\n",
      "2016    41266    10622     4984     3945   3786.0\n",
      "2017    32427     9228     5570     5766   6667.0\n"
     ]
    }
   ],
   "source": [
    "df_KTX = pd.DataFrame(KTX_data, columns=col_list, index= index_list)\n",
    "print(df_KTX)"
   ]
  },
  {
   "cell_type": "code",
   "execution_count": 137,
   "id": "7059a105",
   "metadata": {},
   "outputs": [
    {
     "name": "stdout",
     "output_type": "stream",
     "text": [
      "<class 'pandas.core.frame.DataFrame'>\n",
      "Index: 7 entries, 2011 to 2017\n",
      "Data columns (total 5 columns):\n",
      " #   Column   Non-Null Count  Dtype  \n",
      "---  ------   --------------  -----  \n",
      " 0   경부선 KTX  7 non-null      int64  \n",
      " 1   호남선 KTX  7 non-null      int64  \n",
      " 2   경전선 KTX  7 non-null      int64  \n",
      " 3   전라선 KTX  7 non-null      int64  \n",
      " 4   동해선 KTX  3 non-null      float64\n",
      "dtypes: float64(1), int64(4)\n",
      "memory usage: 336.0+ bytes\n",
      "None\n"
     ]
    }
   ],
   "source": [
    "print(df_KTX.info())"
   ]
  },
  {
   "cell_type": "code",
   "execution_count": 138,
   "id": "588d03bf",
   "metadata": {},
   "outputs": [
    {
     "name": "stdout",
     "output_type": "stream",
     "text": [
      "      경부선 KTX  호남선 KTX  경전선 KTX  전라선 KTX  동해선 KTX\n",
      "2013    42005     6873     4088     1954      NaN\n",
      "2014    43621     6626     4424     2244      NaN\n",
      "2015    41702     8675     4606     3146   2395.0\n",
      "2016    41266    10622     4984     3945   3786.0\n",
      "2017    32427     9228     5570     5766   6667.0\n"
     ]
    }
   ],
   "source": [
    "print(df_KTX.tail())"
   ]
  },
  {
   "cell_type": "code",
   "execution_count": 139,
   "id": "5728e8c4",
   "metadata": {},
   "outputs": [
    {
     "name": "stdout",
     "output_type": "stream",
     "text": [
      "      경부선 KTX  호남선 KTX  경전선 KTX  전라선 KTX  동해선 KTX\n",
      "2012    39896     6967     4168     1771      NaN\n"
     ]
    }
   ],
   "source": [
    "print(df_KTX[1:2])"
   ]
  },
  {
   "cell_type": "code",
   "execution_count": 140,
   "id": "4aa7a30f",
   "metadata": {},
   "outputs": [
    {
     "name": "stdout",
     "output_type": "stream",
     "text": [
      "      경부선 KTX  호남선 KTX  경전선 KTX  전라선 KTX  동해선 KTX\n",
      "2013    42005     6873     4088     1954      NaN\n",
      "2014    43621     6626     4424     2244      NaN\n",
      "2015    41702     8675     4606     3146   2395.0\n"
     ]
    }
   ],
   "source": [
    "print(df_KTX[2:5])"
   ]
  },
  {
   "cell_type": "code",
   "execution_count": 141,
   "id": "fb5c436d",
   "metadata": {},
   "outputs": [
    {
     "name": "stdout",
     "output_type": "stream",
     "text": [
      "경부선 KTX    39060.0\n",
      "호남선 KTX     7313.0\n",
      "경전선 KTX     3627.0\n",
      "전라선 KTX      309.0\n",
      "동해선 KTX        NaN\n",
      "Name: 2011, dtype: float64\n"
     ]
    }
   ],
   "source": [
    "print(df_KTX.loc['2011'])"
   ]
  },
  {
   "cell_type": "code",
   "execution_count": 142,
   "id": "3ad74d9c",
   "metadata": {},
   "outputs": [
    {
     "name": "stdout",
     "output_type": "stream",
     "text": [
      "      경부선 KTX  호남선 KTX  경전선 KTX  전라선 KTX  동해선 KTX\n",
      "2013    42005     6873     4088     1954      NaN\n",
      "2014    43621     6626     4424     2244      NaN\n",
      "2015    41702     8675     4606     3146   2395.0\n",
      "2016    41266    10622     4984     3945   3786.0\n"
     ]
    }
   ],
   "source": [
    "print(df_KTX.loc['2013':'2016'])"
   ]
  },
  {
   "cell_type": "code",
   "execution_count": 143,
   "id": "b4033501",
   "metadata": {},
   "outputs": [
    {
     "name": "stdout",
     "output_type": "stream",
     "text": [
      "2011    39060\n",
      "2012    39896\n",
      "2013    42005\n",
      "2014    43621\n",
      "2015    41702\n",
      "2016    41266\n",
      "2017    32427\n",
      "Name: 경부선 KTX, dtype: int64\n"
     ]
    }
   ],
   "source": [
    "print(df_KTX['경부선 KTX'])"
   ]
  },
  {
   "cell_type": "code",
   "execution_count": 144,
   "id": "7dc031ca",
   "metadata": {},
   "outputs": [
    {
     "name": "stdout",
     "output_type": "stream",
     "text": [
      "2012    39896\n",
      "2013    42005\n",
      "2014    43621\n",
      "Name: 경부선 KTX, dtype: int64\n"
     ]
    }
   ],
   "source": [
    "print(df_KTX['경부선 KTX']['2012':'2014'])"
   ]
  },
  {
   "cell_type": "code",
   "execution_count": 145,
   "id": "6ee0ed34",
   "metadata": {},
   "outputs": [
    {
     "name": "stdout",
     "output_type": "stream",
     "text": [
      "10622.0\n"
     ]
    }
   ],
   "source": [
    "print(df_KTX.loc['2016']['호남선 KTX'])"
   ]
  },
  {
   "cell_type": "code",
   "execution_count": 146,
   "id": "877cd2ff",
   "metadata": {},
   "outputs": [
    {
     "name": "stdout",
     "output_type": "stream",
     "text": [
      "10622\n"
     ]
    }
   ],
   "source": [
    "print(df_KTX['호남선 KTX'][5])"
   ]
  },
  {
   "cell_type": "code",
   "execution_count": 147,
   "id": "5a003484",
   "metadata": {},
   "outputs": [
    {
     "name": "stdout",
     "output_type": "stream",
     "text": [
      "10622\n"
     ]
    }
   ],
   "source": [
    "print(df_KTX['호남선 KTX'].loc['2016'])"
   ]
  },
  {
   "cell_type": "code",
   "execution_count": 148,
   "id": "fc10b10c",
   "metadata": {},
   "outputs": [
    {
     "name": "stdout",
     "output_type": "stream",
     "text": [
      "            2011     2012     2013     2014     2015     2016     2017\n",
      "경부선 KTX  39060.0  39896.0  42005.0  43621.0  41702.0  41266.0  32427.0\n",
      "호남선 KTX   7313.0   6967.0   6873.0   6626.0   8675.0  10622.0   9228.0\n",
      "경전선 KTX   3627.0   4168.0   4088.0   4424.0   4606.0   4984.0   5570.0\n",
      "전라선 KTX    309.0   1771.0   1954.0   2244.0   3146.0   3945.0   5766.0\n",
      "동해선 KTX      NaN      NaN      NaN      NaN   2395.0   3786.0   6667.0\n"
     ]
    }
   ],
   "source": [
    "print(df_KTX.T)"
   ]
  },
  {
   "cell_type": "code",
   "execution_count": 149,
   "id": "51d13689",
   "metadata": {},
   "outputs": [
    {
     "name": "stdout",
     "output_type": "stream",
     "text": [
      "      동해선 KTX  전라선 KTX  경전선 KTX  호남선 KTX  경부선 KTX\n",
      "2011      NaN      309     3627     7313    39060\n",
      "2012      NaN     1771     4168     6967    39896\n",
      "2013      NaN     1954     4088     6873    42005\n",
      "2014      NaN     2244     4424     6626    43621\n",
      "2015   2395.0     3146     4606     8675    41702\n",
      "2016   3786.0     3945     4984    10622    41266\n",
      "2017   6667.0     5766     5570     9228    32427\n"
     ]
    }
   ],
   "source": [
    "print(df_KTX[['동해선 KTX','전라선 KTX', '경전선 KTX', '호남선 KTX', '경부선 KTX']])"
   ]
  },
  {
   "cell_type": "code",
   "execution_count": 151,
   "id": "98e44e0f",
   "metadata": {},
   "outputs": [
    {
     "name": "stdout",
     "output_type": "stream",
     "text": [
      "   Class1  Class2\n",
      "0      95      91\n",
      "1      92      93\n",
      "2      98      97\n",
      "3     100      99\n"
     ]
    }
   ],
   "source": [
    "df1 = pd.DataFrame({'Class1':[95,92,98,100], 'Class2':[91,93,97,99]})\n",
    "print(df1)"
   ]
  },
  {
   "cell_type": "code",
   "execution_count": 152,
   "id": "b3e719d7",
   "metadata": {},
   "outputs": [
    {
     "name": "stdout",
     "output_type": "stream",
     "text": [
      "   A   B    C\n",
      "0  6  60  600\n",
      "1  7  70  700\n",
      "2  8  80  800\n"
     ]
    }
   ],
   "source": [
    "df1 = pd.DataFrame({'Class1':[87,89],'Class2':[85,90]})\n",
    "print(df2)"
   ]
  },
  {
   "cell_type": "code",
   "execution_count": 154,
   "id": "0eda4ff3",
   "metadata": {},
   "outputs": [
    {
     "name": "stdout",
     "output_type": "stream",
     "text": [
      "   Class1  Class2    A     B      C\n",
      "0    87.0    85.0  NaN   NaN    NaN\n",
      "1    89.0    90.0  NaN   NaN    NaN\n",
      "2     NaN     NaN  6.0  60.0  600.0\n",
      "3     NaN     NaN  7.0  70.0  700.0\n",
      "4     NaN     NaN  8.0  80.0  800.0\n"
     ]
    }
   ],
   "source": [
    "print(df1.append(df2,ignore_index=True))"
   ]
  },
  {
   "cell_type": "code",
   "execution_count": 155,
   "id": "2f647e1b",
   "metadata": {},
   "outputs": [
    {
     "name": "stdout",
     "output_type": "stream",
     "text": [
      "   Class1\n",
      "0      96\n",
      "1      83\n"
     ]
    }
   ],
   "source": [
    "df3 = pd.DataFrame({'Class1':[96,83]})\n",
    "print(df3)"
   ]
  },
  {
   "cell_type": "code",
   "execution_count": 156,
   "id": "ba95694e",
   "metadata": {},
   "outputs": [
    {
     "name": "stdout",
     "output_type": "stream",
     "text": [
      "     A     B      C  Class1\n",
      "0  6.0  60.0  600.0     NaN\n",
      "1  7.0  70.0  700.0     NaN\n",
      "2  8.0  80.0  800.0     NaN\n",
      "3  NaN   NaN    NaN    96.0\n",
      "4  NaN   NaN    NaN    83.0\n"
     ]
    }
   ],
   "source": [
    "print(df2.append(df3,ignore_index = True))"
   ]
  },
  {
   "cell_type": "code",
   "execution_count": 157,
   "id": "c39f7233",
   "metadata": {},
   "outputs": [
    {
     "name": "stdout",
     "output_type": "stream",
     "text": [
      "   Class3\n",
      "0      93\n",
      "1      91\n",
      "2      95\n",
      "3      98\n"
     ]
    }
   ],
   "source": [
    "df4 = pd.DataFrame({'Class3':[93,91,95,98]})\n",
    "print(df4)"
   ]
  },
  {
   "cell_type": "code",
   "execution_count": 158,
   "id": "134a4c45",
   "metadata": {},
   "outputs": [
    {
     "name": "stdout",
     "output_type": "stream",
     "text": [
      "   Class1  Class2\n",
      "0      87      85\n",
      "1      89      90\n"
     ]
    }
   ],
   "source": [
    "print(df1)"
   ]
  },
  {
   "cell_type": "code",
   "execution_count": 159,
   "id": "49bbfe3b",
   "metadata": {},
   "outputs": [
    {
     "name": "stdout",
     "output_type": "stream",
     "text": [
      "   Class1  Class2  Class3\n",
      "0      87      85      93\n",
      "1      89      90      91\n"
     ]
    }
   ],
   "source": [
    "print(df1.join(df4))"
   ]
  },
  {
   "cell_type": "code",
   "execution_count": 162,
   "id": "649fb2bc",
   "metadata": {},
   "outputs": [
    {
     "name": "stdout",
     "output_type": "stream",
     "text": [
      "   Class1  Class2\n",
      "a      95      91\n",
      "b      92      93\n",
      "c      98      97\n",
      "d     100      99\n"
     ]
    }
   ],
   "source": [
    "index_label = ['a','b','c','d']\n",
    "df1a = pd.DataFrame({'Class1':[95,92,98,100], 'Class2':[91,93,97,99]}, index=index_label)\n",
    "df4a = pd.DataFrame({'Class3': [93,91,95,98]}, index=index_label)\n",
    "print(df1a)"
   ]
  },
  {
   "cell_type": "code",
   "execution_count": 163,
   "id": "cc8f2476",
   "metadata": {},
   "outputs": [
    {
     "name": "stdout",
     "output_type": "stream",
     "text": [
      "   Class4\n",
      "0      82\n",
      "1      92\n"
     ]
    }
   ],
   "source": [
    "df5 = pd.DataFrame({'Class4':[82,92]})\n",
    "print(df5)"
   ]
  },
  {
   "cell_type": "code",
   "execution_count": 164,
   "id": "1689b677",
   "metadata": {},
   "outputs": [
    {
     "name": "stdout",
     "output_type": "stream",
     "text": [
      "   Class1  Class2\n",
      "0      87      85\n",
      "1      89      90\n"
     ]
    }
   ],
   "source": [
    "print(df1)"
   ]
  },
  {
   "cell_type": "code",
   "execution_count": 165,
   "id": "d7c9bf80",
   "metadata": {},
   "outputs": [
    {
     "name": "stdout",
     "output_type": "stream",
     "text": [
      "   Class1  Class2  Class4\n",
      "0      87      85      82\n",
      "1      89      90      92\n"
     ]
    }
   ],
   "source": [
    "print(df1.join(df5))\n",
    "# join할 때 모자란 부분은 Nan으로 채워진다"
   ]
  },
  {
   "cell_type": "code",
   "execution_count": 166,
   "id": "c7116c45",
   "metadata": {},
   "outputs": [
    {
     "name": "stdout",
     "output_type": "stream",
     "text": [
      "  판매월  청소기  세탁기\n",
      "0  1월  100   90\n",
      "1  2월  150  110\n",
      "2  3월  200  140\n",
      "3  4월  130  170\n"
     ]
    }
   ],
   "source": [
    "df_A_B = pd.DataFrame({'판매월':['1월','2월','3월','4월'],\\\n",
    "                       '청소기': [100,150, 200,130],\\\n",
    "                       '세탁기':[90,110,140,170]})\n",
    "print(df_A_B)"
   ]
  },
  {
   "cell_type": "code",
   "execution_count": 167,
   "id": "63c1dd22",
   "metadata": {},
   "outputs": [
    {
     "name": "stdout",
     "output_type": "stream",
     "text": [
      "  판매월  냉장고  에어컨\n",
      "0  1월  112   90\n",
      "1  2월  141  110\n",
      "2  3월  203  150\n",
      "3  4월  134  160\n"
     ]
    }
   ],
   "source": [
    "df_C_D = pd.DataFrame({'판매월':['1월','2월','3월','4월'],\\\n",
    "                       '냉장고': [112,141, 203,134],\\\n",
    "                       '에어컨':[90,110,150,160]})\n",
    "print(df_C_D)"
   ]
  },
  {
   "cell_type": "code",
   "execution_count": 168,
   "id": "e4428a0e",
   "metadata": {},
   "outputs": [
    {
     "name": "stdout",
     "output_type": "stream",
     "text": [
      "  판매월  청소기  세탁기  냉장고  에어컨\n",
      "0  1월  100   90  112   90\n",
      "1  2월  150  110  141  110\n",
      "2  3월  200  140  203  150\n",
      "3  4월  130  170  134  160\n"
     ]
    }
   ],
   "source": [
    "print(df_A_B.merge(df_C_D))"
   ]
  },
  {
   "cell_type": "code",
   "execution_count": 169,
   "id": "1890c2a0",
   "metadata": {},
   "outputs": [
    {
     "name": "stdout",
     "output_type": "stream",
     "text": [
      "  key  left\n",
      "0   A     1\n",
      "1   B     2\n",
      "2   C     3\n"
     ]
    }
   ],
   "source": [
    "df_left = pd.DataFrame({'key': ['A','B','C'], 'left':[1,2,3]})\n",
    "print(df_left)"
   ]
  },
  {
   "cell_type": "code",
   "execution_count": 170,
   "id": "a97d300e",
   "metadata": {},
   "outputs": [
    {
     "name": "stdout",
     "output_type": "stream",
     "text": [
      "  key  right\n",
      "0   A      4\n",
      "1   B      5\n",
      "2   D      6\n"
     ]
    }
   ],
   "source": [
    "df_right = pd.DataFrame({'key':['A','B','D'],'right':[4,5,6]})\n",
    "print(df_right)"
   ]
  },
  {
   "cell_type": "code",
   "execution_count": 171,
   "id": "44c4eb0b",
   "metadata": {},
   "outputs": [
    {
     "name": "stdout",
     "output_type": "stream",
     "text": [
      "  key  left  right\n",
      "0   A     1    4.0\n",
      "1   B     2    5.0\n",
      "2   C     3    NaN\n"
     ]
    }
   ],
   "source": [
    "# 데이터가 상이할 떄 merge 하는 방법\n",
    "print(df_left.merge(df_right, how='left', on='key'))"
   ]
  },
  {
   "cell_type": "code",
   "execution_count": 172,
   "id": "b11110f0",
   "metadata": {},
   "outputs": [
    {
     "name": "stdout",
     "output_type": "stream",
     "text": [
      "  key  left  right\n",
      "0   A   1.0      4\n",
      "1   B   2.0      5\n",
      "2   D   NaN      6\n"
     ]
    }
   ],
   "source": [
    "print(df_left.merge(df_right, how='right', on='key'))\n",
    "# right 기준으로 붙인다"
   ]
  },
  {
   "cell_type": "code",
   "execution_count": 173,
   "id": "4058faa6",
   "metadata": {},
   "outputs": [
    {
     "name": "stdout",
     "output_type": "stream",
     "text": [
      "  key  left  right\n",
      "0   A   1.0    4.0\n",
      "1   B   2.0    5.0\n",
      "2   C   3.0    NaN\n",
      "3   D   NaN    6.0\n"
     ]
    }
   ],
   "source": [
    "print(df_left.merge(df_right, how='outer', on='key'))\n",
    "# 양쪽 기준으로"
   ]
  },
  {
   "cell_type": "code",
   "execution_count": 174,
   "id": "0693113f",
   "metadata": {},
   "outputs": [
    {
     "name": "stdout",
     "output_type": "stream",
     "text": [
      "   지사    연도  고객 수\n",
      "0  서울  2015   200\n",
      "1  서울  2016   250\n",
      "2  부산  2016   150\n",
      "3  서울  2017   300\n",
      "4  부산  2017   200\n"
     ]
    }
   ],
   "source": [
    "data = {'연도': [2015, 2016, 2016, 2017, 2017], \n",
    "        '지사': ['서울', '서울', '부산', '서울', '부산'],\n",
    "        '고객 수': [200, 250, 150, 300, 200]}\n",
    "df = pd.DataFrame(data, columns=['지사','연도', '고객 수'])\n",
    "print(df)"
   ]
  },
  {
   "cell_type": "code",
   "execution_count": 175,
   "id": "a88e3380",
   "metadata": {},
   "outputs": [],
   "source": [
    "row = ['대전',2018,500]"
   ]
  },
  {
   "cell_type": "code",
   "execution_count": 177,
   "id": "848df545",
   "metadata": {},
   "outputs": [
    {
     "name": "stdout",
     "output_type": "stream",
     "text": [
      "   지사    연도  고객 수\n",
      "0  서울  2015   200\n",
      "1  서울  2016   250\n",
      "2  부산  2016   150\n",
      "3  서울  2017   300\n",
      "4  부산  2017   200\n",
      "5  대전  2018   500\n"
     ]
    }
   ],
   "source": [
    "df = df.append(pd.Series(row, index=df.columns), ignore_index=True)\n",
    "print(df)\n",
    "# Seriess는 새로 생인 놈인데, ~~ 하면 안되서 콜롬으로 붙인다 "
   ]
  },
  {
   "cell_type": "code",
   "execution_count": null,
   "id": "295c9d61",
   "metadata": {},
   "outputs": [],
   "source": []
  },
  {
   "cell_type": "code",
   "execution_count": null,
   "id": "5f2a85da",
   "metadata": {},
   "outputs": [],
   "source": []
  },
  {
   "cell_type": "code",
   "execution_count": null,
   "id": "c4ca7c07",
   "metadata": {},
   "outputs": [],
   "source": []
  },
  {
   "cell_type": "code",
   "execution_count": null,
   "id": "39d0f029",
   "metadata": {},
   "outputs": [],
   "source": []
  },
  {
   "cell_type": "code",
   "execution_count": null,
   "id": "78f40de7",
   "metadata": {},
   "outputs": [],
   "source": []
  }
 ],
 "metadata": {
  "kernelspec": {
   "display_name": "Python 3 (ipykernel)",
   "language": "python",
   "name": "python3"
  },
  "language_info": {
   "codemirror_mode": {
    "name": "ipython",
    "version": 3
   },
   "file_extension": ".py",
   "mimetype": "text/x-python",
   "name": "python",
   "nbconvert_exporter": "python",
   "pygments_lexer": "ipython3",
   "version": "3.9.6"
  }
 },
 "nbformat": 4,
 "nbformat_minor": 5
}
