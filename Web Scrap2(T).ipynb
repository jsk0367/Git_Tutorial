{
 "cells": [
  {
   "cell_type": "code",
   "execution_count": 2,
   "id": "e226e89c",
   "metadata": {},
   "outputs": [],
   "source": [
    "from bs4 import BeautifulSoup"
   ]
  },
  {
   "cell_type": "code",
   "execution_count": 3,
   "id": "f559c3b9",
   "metadata": {},
   "outputs": [],
   "source": [
    "import requests"
   ]
  },
  {
   "cell_type": "code",
   "execution_count": 4,
   "id": "c2bae3b4",
   "metadata": {},
   "outputs": [],
   "source": [
    "url = 'https://vibe.naver.com/chart/total'\n",
    "html_music = requests.get(url).text\n",
    "soup_music = BeautifulSoup(html_music, 'lxml')"
   ]
  },
  {
   "cell_type": "code",
   "execution_count": 5,
   "id": "080dea1a",
   "metadata": {},
   "outputs": [
    {
     "name": "stdout",
     "output_type": "stream",
     "text": [
      "0\n"
     ]
    }
   ],
   "source": [
    "titles = soup_music.select('span.inner_cell a.link_text')\n",
    "print(len(titles))"
   ]
  },
  {
   "cell_type": "code",
   "execution_count": 6,
   "id": "4f8ee20f",
   "metadata": {},
   "outputs": [
    {
     "name": "stdout",
     "output_type": "stream",
     "text": [
      "<!DOCTYPE html>\n",
      "<html lang=\"ko\"><head><meta charset=\"utf-8\"/><meta content=\"IE=edge\" http-equiv=\"X-UA-Compatible\"/><meta content=\"width=device-width,initial-scale=1,user-scalable=no\" name=\"viewport\"/><meta content=\"telephone=no\" name=\"format-detection\"/><meta content=\"좋아하는 음악은 물론, 좋아할 음악까지 들려주는 취향 저격 뮤직 서비스\" name=\"description\"/><meta content=\"app-id=1338631589\" name=\"apple-itunes-app\"/><meta content=\"website\" property=\"og:type\"/><meta content=\"https://music-phinf.pstatic.net/20201019_118/16031004163365Jexk_JPEG/about.jpg\" property=\"og:image\"/><meta content=\"NAVER VIBE(바이브)\" property=\"og:title\"/><meta content=\"#나만을 위한 음악이 듣고 싶을 땐 #내돈내듣 VIBE.\" property=\"og:description\"/><meta content=\"https://vibe.naver.com\" property=\"og:url\"/><meta content=\"summary_large_image\" name=\"twitter:card\"/><meta content=\"https://music-phinf.pstatic.net/20201019_118/16031004163365Jexk_JPEG/about.jpg\" name=\"twitter:image\"/><meta content=\"NAVER VIBE(바이브)\" name=\"twitter:title\"/><meta content=\"NAVER VIBE(바이브)\" name=\"twitter:site\"/><meta content=\"VIBE\" name=\"twitter:creator\"/><meta content=\"#나만을 위한 음악이 듣고 싶을 땐 #내돈내듣 VIBE.\" name=\"twitter:description\"/><meta content=\"bd4b0v5vmt0svjpl26q5rtwbved1mp\" name=\"facebook-domain-verification\"/><link href=\"/favicon.ico\" rel=\"shortcut icon\" type=\"image/x-icon\"/><link href=\"/favicon.ico\" rel=\"icon\" type=\"image/x-icon\"/><link href=\"/images/icon/icon_120x120.png\" rel=\"apple-touch-icon\"/><link href=\"/images/icon/icon_120x120.png\" rel=\"apple-touch-icon\" sizes=\"120x120\"/><link href=\"/images/icon/icon_152x152.png\" rel=\"apple-touch-icon\" sizes=\"152x152\"/><link href=\"/images/icon/icon_167x167.png\" rel=\"apple-touch-icon\" sizes=\"167x167\"/><link href=\"/images/icon/icon_180x180.png\" rel=\"apple-touch-icon\" sizes=\"180x180\"/><title>VIBE (바이브)</title><link href=\"/20210823154233_resources/css/common.d51bedd8.css\" rel=\"prefetch\"/><link href=\"/20210823154233_resources/js/common.c879fed5.js\" rel=\"prefetch\"/><link as=\"style\" href=\"/20210823154233_resources/css/app.8bf3f898.css\" rel=\"preload\"/><link as=\"style\" href=\"/20210823154233_resources/css/chunk-vendors.598bb52f.css\" rel=\"preload\"/><link as=\"script\" href=\"/20210823154233_resources/js/app.f88f10bb.js\" rel=\"preload\"/><link as=\"script\" href=\"/20210823154233_resources/js/chunk-vendors.b833ef5d.js\" rel=\"preload\"/><link href=\"/20210823154233_resources/css/chunk-vendors.598bb52f.css\" rel=\"stylesheet\"/><link href=\"/20210823154233_resources/css/app.8bf3f898.css\" rel=\"stylesheet\"/></head><body><noscript><strong>자바스크립트가 비활성화 되어있어 화면을 표시할 수 없습니다. 브라우저 설정에서 자바스크립트를 활성화 후 다시 시도해 주세요.</strong></noscript><div class=\"app\" id=\"app\"></div><script src=\"/20210823154233_resources/js/chunk-vendors.b833ef5d.js\"></script><script src=\"/20210823154233_resources/js/app.f88f10bb.js\"></script></body></html>\n"
     ]
    }
   ],
   "source": [
    "print(soup_music)"
   ]
  },
  {
   "cell_type": "code",
   "execution_count": 7,
   "id": "14cc82e8",
   "metadata": {},
   "outputs": [],
   "source": [
    "from selenium import webdriver\n",
    "driver = webdriver.Chrome('driver/chromedriver')\n",
    "driver.get('https://vibe.naver.com/chart/total')"
   ]
  },
  {
   "cell_type": "code",
   "execution_count": 8,
   "id": "152b8eed",
   "metadata": {},
   "outputs": [],
   "source": [
    "xpath = \"\"\"//*[@id=\"app\"]/div[2]/div/div/a[2]\"\"\"\n",
    "driver.find_element_by_xpath(xpath).click()"
   ]
  },
  {
   "cell_type": "code",
   "execution_count": 9,
   "id": "7f178d73",
   "metadata": {},
   "outputs": [],
   "source": [
    "html_music = driver.page_source\n",
    "soup_music = BeautifulSoup(html_music, 'lxml')"
   ]
  },
  {
   "cell_type": "code",
   "execution_count": 10,
   "id": "79d779bb",
   "metadata": {},
   "outputs": [
    {
     "name": "stdout",
     "output_type": "stream",
     "text": [
      "100\n"
     ]
    }
   ],
   "source": [
    "titles = soup_music.select('span.inner_cell a.link_text')\n",
    "print(len(titles))"
   ]
  },
  {
   "cell_type": "code",
   "execution_count": 11,
   "id": "01066cd5",
   "metadata": {},
   "outputs": [
    {
     "name": "stdout",
     "output_type": "stream",
     "text": [
      "[<a class=\"link_text\" href=\"/track/50071944\" title=\"낙하 (with 아이유)\">낙하 (with 아이유)</a>, <a class=\"link_text\" href=\"/track/48124900\" title=\"신호등\">신호등</a>]\n"
     ]
    }
   ],
   "source": [
    "print(titles[:2])"
   ]
  },
  {
   "cell_type": "code",
   "execution_count": 12,
   "id": "400f1064",
   "metadata": {},
   "outputs": [
    {
     "name": "stdout",
     "output_type": "stream",
     "text": [
      "['낙하 (with 아이유)', '신호등', 'Next Level', 'Permission to Dance', 'Weekend', 'Stay', 'Butter', '바라만 본다', 'Queendom', 'DUMB DUMB']\n"
     ]
    }
   ],
   "source": [
    "music_titles = [title.get_text() for title in titles]\n",
    "print(music_titles[:10])"
   ]
  },
  {
   "cell_type": "code",
   "execution_count": 35,
   "id": "cfe43696",
   "metadata": {},
   "outputs": [
    {
     "name": "stdout",
     "output_type": "stream",
     "text": [
      "100\n"
     ]
    }
   ],
   "source": [
    "artists = soup_music.select('td.artist')\n",
    "print(len(artists))"
   ]
  },
  {
   "cell_type": "code",
   "execution_count": 36,
   "id": "fc5b6aa2",
   "metadata": {},
   "outputs": [
    {
     "name": "stdout",
     "output_type": "stream",
     "text": [
      "[<td class=\"artist\" title=\"AKMU(악뮤)\"><span class=\"inner\"><span><span><a class=\"link_artist\" href=\"/artist/243100\"><span class=\"text\">AKMU(악뮤)</span></a><!-- --></span></span></span></td>, <td class=\"artist\" title=\"이무진\"><span class=\"inner\"><span><span><a class=\"link_artist\" href=\"/artist/2389293\"><span class=\"text\">이무진</span></a><!-- --></span></span></span></td>]\n"
     ]
    }
   ],
   "source": [
    "print(artists[:2])"
   ]
  },
  {
   "cell_type": "code",
   "execution_count": 37,
   "id": "cc20c2c0",
   "metadata": {},
   "outputs": [],
   "source": [
    "artists = [ artist['title'] for artist in artists]"
   ]
  },
  {
   "cell_type": "code",
   "execution_count": 38,
   "id": "53ad03c8",
   "metadata": {},
   "outputs": [
    {
     "name": "stdout",
     "output_type": "stream",
     "text": [
      "100\n"
     ]
    }
   ],
   "source": [
    "print(len(artists))"
   ]
  },
  {
   "cell_type": "code",
   "execution_count": 39,
   "id": "d91d55f5",
   "metadata": {},
   "outputs": [
    {
     "name": "stdout",
     "output_type": "stream",
     "text": [
      "['AKMU(악뮤)', '이무진', 'aespa', '방탄소년단', '태연 (TAEYEON)', 'The Kid LAROI, Justin Bieber', '방탄소년단', 'MSG워너비(M.O.M)', 'Red Velvet (레드벨벳)', '전소미']\n"
     ]
    }
   ],
   "source": [
    "print(artists[:10])"
   ]
  },
  {
   "cell_type": "code",
   "execution_count": 40,
   "id": "9cff37b7",
   "metadata": {},
   "outputs": [],
   "source": [
    "driver.close()"
   ]
  },
  {
   "cell_type": "code",
   "execution_count": 41,
   "id": "dc2f46e6",
   "metadata": {},
   "outputs": [],
   "source": [
    "def get_vibe_top100(url):\n",
    "    driver = webdriver.Chrome('driver/chromedriver')\n",
    "    driver.get(url)\n",
    "    xpath = \"\"\"//*[@id=\"app\"]/div[2]/div/div/a[2]\"\"\"\n",
    "    driver.find_element_by_xpath(xpath).click()\n",
    "    html_music = driver.page_source\n",
    "    soup_music = BeautifulSoup(html_music, 'lxml')\n",
    "    \n",
    "    titles = soup_music.select('span.inner_cell a.link_text')\n",
    "    music_titles = [title.get_text() for title in titles]\n",
    "    \n",
    "    artists = soup_music.select('td.artist')\n",
    "    music_artists = [ artist['title'] for artist in artists]\n",
    "    \n",
    "    for k in range(len(music_titles)):\n",
    "        print(\"{0}: {1} / {2}\\n\".format(k+1, \\\n",
    "                            music_titles[k], music_artists[k]))\n",
    "        \n",
    "    driver.close()"
   ]
  },
  {
   "cell_type": "code",
   "execution_count": 42,
   "id": "f4468d84",
   "metadata": {},
   "outputs": [
    {
     "name": "stdout",
     "output_type": "stream",
     "text": [
      "1: 낙하 (with 아이유) / AKMU(악뮤)\n",
      "\n",
      "2: 신호등 / 이무진\n",
      "\n",
      "3: Next Level / aespa\n",
      "\n",
      "4: Permission to Dance / 방탄소년단\n",
      "\n",
      "5: Weekend / 태연 (TAEYEON)\n",
      "\n",
      "6: Stay / The Kid LAROI, Justin Bieber\n",
      "\n",
      "7: Butter / 방탄소년단\n",
      "\n",
      "8: 바라만 본다 / MSG워너비(M.O.M)\n",
      "\n",
      "9: Queendom / Red Velvet (레드벨벳)\n",
      "\n",
      "10: DUMB DUMB / 전소미\n",
      "\n",
      "11: Bad Habits / Ed Sheeran\n",
      "\n",
      "12: Dun Dun Dance / 오마이걸(OH MY GIRL)\n",
      "\n",
      "13: 좋아좋아 / 조정석\n",
      "\n",
      "14: 헤픈 우연 / 헤이즈 (Heize)\n",
      "\n",
      "15: Alcohol-Free / TWICE(트와이스)\n",
      "\n",
      "16: Peaches (Feat. Daniel Caesar, Giveon) / Justin Bieber\n",
      "\n",
      "17: 라일락 / 아이유(IU)\n",
      "\n",
      "18: 비와 당신 / 이무진\n",
      "\n",
      "19: Dynamite / 방탄소년단\n",
      "\n",
      "20: 롤린 (Rollin') / 브레이브걸스(Brave Girls)\n",
      "\n",
      "21: ASAP / STAYC(스테이씨)\n",
      "\n",
      "22: OHAYO MY NIGHT / 디핵(D-Hack), PATEKO(파테코)\n",
      "\n",
      "23: Celebrity / 아이유(IU)\n",
      "\n",
      "24: 여전히 아름다운지 / 세븐틴\n",
      "\n",
      "25: 안녕 (Hello) / 조이 (JOY)\n",
      "\n",
      "26: Kiss Me More (Feat. SZA) / Doja Cat\n",
      "\n",
      "27: 비 오는 날 듣기 좋은 노래 (Feat. Colde) / 에픽하이 (EPIK HIGH)\n",
      "\n",
      "28: 치맛바람 (Chi Mat Ba Ram) / 브레이브걸스(Brave Girls)\n",
      "\n",
      "29: 나를 아는 사람 / MSG워너비(정상동기)\n",
      "\n",
      "30: 슈퍼스타 / 미도와 파라솔\n",
      "\n",
      "31: 추적이는 여름 비가 되어 / 장범준\n",
      "\n",
      "32: 하루만 더 / 빅마마\n",
      "\n",
      "33: 가을 우체국 앞에서 / 김대명\n",
      "\n",
      "34: 어떻게 이별까지 사랑하겠어, 널 사랑하는 거지 / AKMU(악뮤)\n",
      "\n",
      "35: 상상더하기 / 라붐(LABOUM)\n",
      "\n",
      "36: 비가 오는 날엔 (2021) / 헤이즈 (Heize)\n",
      "\n",
      "37: 운전만해 (We Ride) / 브레이브걸스(Brave Girls)\n",
      "\n",
      "38: 이젠 잊기로 해요 (Drama Ver.) / 미도와 파라솔\n",
      "\n",
      "39: 전쟁터 (with 이선희) / AKMU(악뮤)\n",
      "\n",
      "40: 회상 / 정경호\n",
      "\n",
      "41: Timeless / SG워너비\n",
      "\n",
      "42: 상상더하기 / MSG워너비 TOP 8(별루지, 김정수, 강창모, 정기석, 이동휘, 이상이, 박재정, 원슈타인)\n",
      "\n",
      "43: 밤하늘의 별을 (2020) / 경서\n",
      "\n",
      "44: Leave The Door Open / Bruno Mars, Anderson .Paak, Silk Sonic\n",
      "\n",
      "45: Lovesick Girls / BLACKPINK\n",
      "\n",
      "46: Levitating (Feat. DaBaby) / Dua Lipa\n",
      "\n",
      "47: 고백 / 장범준\n",
      "\n",
      "48: 내 손을 잡아 / 아이유(IU)\n",
      "\n",
      "49: 벌써 일년 (Drama Ver.) / 미도와 파라솔\n",
      "\n",
      "50: 고칠게 / 죠지\n",
      "\n",
      "51: 고백 / 10CM\n",
      "\n",
      "52: You can't sit with us / 선미\n",
      "\n",
      "53: 어푸 (Ah puh) / 아이유(IU)\n",
      "\n",
      "54: Dolphin / 오마이걸(OH MY GIRL)\n",
      "\n",
      "55: 잠이 오질 않네요 / 장범준\n",
      "\n",
      "56: 밤편지 / 아이유(IU)\n",
      "\n",
      "57: 나는 너 좋아 / 장범준\n",
      "\n",
      "58: 아로하 / 조정석\n",
      "\n",
      "59: 에잇(Prod.&Feat. SUGA of BTS) / 아이유(IU)\n",
      "\n",
      "60: 취기를 빌려 (취향저격 그녀 X 산들) / 산들\n",
      "\n",
      "61: 째깍 째깍 째깍 (with Beenzino) / AKMU(악뮤)\n",
      "\n",
      "62: 너에게 / 유연석\n",
      "\n",
      "63: good 4 u / Olivia Rodrigo\n",
      "\n",
      "64: 넌 좋은 사람 / SG워너비\n",
      "\n",
      "65: Save Your Tears (Remix) / The Weeknd, Ariana Grande\n",
      "\n",
      "66: 봄날 / 방탄소년단\n",
      "\n",
      "67: 흔들리는 꽃들 속에서 네 샴푸향이 느껴진거야 / 장범준\n",
      "\n",
      "68: Black Mamba / aespa\n",
      "\n",
      "69: On The Ground / 로제 (ROSÉ)\n",
      "\n",
      "70: 마.피.아. In the morning / ITZY(있지)\n",
      "\n",
      "71: Life Goes On / 방탄소년단\n",
      "\n",
      "72: Blueming / 아이유(IU)\n",
      "\n",
      "73: Savage Love (Laxed - Siren Beat) (BTS Remix) / Jawsh 685, Jason Derulo, 방탄소년단\n",
      "\n",
      "74: 비도 오고 그래서 (Feat. 신용재) / 헤이즈 (Heize)\n",
      "\n",
      "75: Pose / Red Velvet (레드벨벳)\n",
      "\n",
      "76: 서울의 잠 못 이루는 밤 (Feat. 이수현) / 10CM\n",
      "\n",
      "77: Love poem / 아이유(IU)\n",
      "\n",
      "78: Off My Face / Justin Bieber\n",
      "\n",
      "79: INDUSTRY BABY / Lil Nas X, Jack Harlow\n",
      "\n",
      "80: 너의 모든 순간 / 성시경\n",
      "\n",
      "81: 밤이 되니까 / 원슈타인\n",
      "\n",
      "82: 2002 / Anne-Marie\n",
      "\n",
      "83: 주저하는 연인들을 위해 / 잔나비\n",
      "\n",
      "84: Coin / 아이유(IU)\n",
      "\n",
      "85: How You Like That / BLACKPINK\n",
      "\n",
      "86: 내 입술 따뜻한 커피처럼 / 청하, Colde(콜드)\n",
      "\n",
      "87: 내사람 (Partner For Life) / SG워너비\n",
      "\n",
      "88: Stupid love song (with Crush) / AKMU(악뮤)\n",
      "\n",
      "89: 난 너를 사랑해 / MSG워너비\n",
      "\n",
      "90: WE GO / 프로미스나인\n",
      "\n",
      "91: BENCH (with Zion.T) / AKMU(악뮤)\n",
      "\n",
      "92: 한여름밤의 꿀 : 다시 여름 / 산이(San E), 레이나\n",
      "\n",
      "93: 외딴섬 로맨틱 / 잔나비\n",
      "\n",
      "94: I'm Gonna Love You (Feat. 원슈타인) / 디오 (D.O.)\n",
      "\n",
      "95: 삠삠 (BEAM BEAM) / 전소연\n",
      "\n",
      "96: 살짝 설렜어 (Nonstop) / 오마이걸(OH MY GIRL)\n",
      "\n",
      "97: LO$ER=LO♡ER / 투모로우바이투게더\n",
      "\n",
      "98: 바다가 들린다 (Prod. NIve) / 양다일\n",
      "\n",
      "99: Rumors (Feat. Cardi B) / Lizzo\n",
      "\n",
      "100: Way Back Home (2021) / 런치\n",
      "\n"
     ]
    }
   ],
   "source": [
    "get_vibe_top100('https://vibe.naver.com/chart/total')"
   ]
  },
  {
   "cell_type": "code",
   "execution_count": null,
   "id": "f67069ae",
   "metadata": {},
   "outputs": [],
   "source": []
  }
 ],
 "metadata": {
  "kernelspec": {
   "display_name": "Python 3",
   "language": "python",
   "name": "python3"
  },
  "language_info": {
   "codemirror_mode": {
    "name": "ipython",
    "version": 3
   },
   "file_extension": ".py",
   "mimetype": "text/x-python",
   "name": "python",
   "nbconvert_exporter": "python",
   "pygments_lexer": "ipython3",
   "version": "3.8.11"
  }
 },
 "nbformat": 4,
 "nbformat_minor": 5
}
